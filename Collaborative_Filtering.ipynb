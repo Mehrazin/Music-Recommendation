{
  "nbformat": 4,
  "nbformat_minor": 0,
  "metadata": {
    "colab": {
      "name": "Collaborative-Filtering.ipynb",
      "provenance": []
    },
    "kernelspec": {
      "name": "python3",
      "display_name": "Python 3"
    }
  },
  "cells": [
    {
      "cell_type": "code",
      "metadata": {
        "colab": {
          "base_uri": "https://localhost:8080/"
        },
        "id": "EgFq_yicIfu-",
        "outputId": "8df9aecb-fb42-41a1-c7a0-4ab32cea0fbc"
      },
      "source": [
        "!pip install scikit-surprise"
      ],
      "execution_count": null,
      "outputs": [
        {
          "output_type": "stream",
          "text": [
            "Requirement already satisfied: scikit-surprise in /usr/local/lib/python3.7/dist-packages (1.1.1)\n",
            "Requirement already satisfied: joblib>=0.11 in /usr/local/lib/python3.7/dist-packages (from scikit-surprise) (1.0.1)\n",
            "Requirement already satisfied: six>=1.10.0 in /usr/local/lib/python3.7/dist-packages (from scikit-surprise) (1.15.0)\n",
            "Requirement already satisfied: numpy>=1.11.2 in /usr/local/lib/python3.7/dist-packages (from scikit-surprise) (1.19.5)\n",
            "Requirement already satisfied: scipy>=1.0.0 in /usr/local/lib/python3.7/dist-packages (from scikit-surprise) (1.4.1)\n"
          ],
          "name": "stdout"
        }
      ]
    },
    {
      "cell_type": "code",
      "metadata": {
        "id": "QdlG0w85ItIn"
      },
      "source": [
        "import pandas as pd\n",
        "import numpy as np\n",
        "from surprise import NMF, SVD, KNNBasic\n",
        "from surprise.model_selection import cross_validate\n",
        "from surprise import Reader, Dataset"
      ],
      "execution_count": null,
      "outputs": []
    },
    {
      "cell_type": "code",
      "metadata": {
        "colab": {
          "base_uri": "https://localhost:8080/",
          "height": 374
        },
        "id": "XUuTePvQJPcx",
        "outputId": "90dcf028-6652-4345-9239-2e862b98d61d"
      },
      "source": [
        "df = pd.read_csv('/content/drive/MyDrive/lastfm-dataset-1K/processed_dataset.csv')\n",
        "df.head()"
      ],
      "execution_count": null,
      "outputs": [
        {
          "output_type": "execute_result",
          "data": {
            "text/html": [
              "<div>\n",
              "<style scoped>\n",
              "    .dataframe tbody tr th:only-of-type {\n",
              "        vertical-align: middle;\n",
              "    }\n",
              "\n",
              "    .dataframe tbody tr th {\n",
              "        vertical-align: top;\n",
              "    }\n",
              "\n",
              "    .dataframe thead th {\n",
              "        text-align: right;\n",
              "    }\n",
              "</style>\n",
              "<table border=\"1\" class=\"dataframe\">\n",
              "  <thead>\n",
              "    <tr style=\"text-align: right;\">\n",
              "      <th></th>\n",
              "      <th>user_id</th>\n",
              "      <th>artist_id</th>\n",
              "      <th>artist_name</th>\n",
              "      <th>track_id</th>\n",
              "      <th>track_name</th>\n",
              "      <th>listen_count</th>\n",
              "      <th>langs</th>\n",
              "    </tr>\n",
              "  </thead>\n",
              "  <tbody>\n",
              "    <tr>\n",
              "      <th>0</th>\n",
              "      <td>user_000001</td>\n",
              "      <td>7e66c9f6-2451-408e-88ff-2af55276caf1</td>\n",
              "      <td>Opiate</td>\n",
              "      <td>00237585-8e04-4cd5-a785-f2185492ab0b</td>\n",
              "      <td>Monday Nightcap</td>\n",
              "      <td>2</td>\n",
              "      <td>en</td>\n",
              "    </tr>\n",
              "    <tr>\n",
              "      <th>1</th>\n",
              "      <td>user_000001</td>\n",
              "      <td>9309954a-d550-484d-8cda-8b9f111a7212</td>\n",
              "      <td>Soul Dhamma</td>\n",
              "      <td>d842d1bb-579d-4e76-ad37-a89467c1f113</td>\n",
              "      <td>Flower (The Underwater Garden Dub Aka Scuba Mix)</td>\n",
              "      <td>1</td>\n",
              "      <td>en</td>\n",
              "    </tr>\n",
              "    <tr>\n",
              "      <th>2</th>\n",
              "      <td>user_000001</td>\n",
              "      <td>4f69da4b-55a9-434c-a150-6de477d8808f</td>\n",
              "      <td>The Young Lovers</td>\n",
              "      <td>d7ffc453-7c42-4fd7-bed6-b749e7a1a60c</td>\n",
              "      <td>You Make Me Dizzy</td>\n",
              "      <td>3</td>\n",
              "      <td>en</td>\n",
              "    </tr>\n",
              "    <tr>\n",
              "      <th>3</th>\n",
              "      <td>user_000001</td>\n",
              "      <td>0a6eb633-fb2c-4683-9783-58c4e86ea740</td>\n",
              "      <td>The Matthew Herbert Big Band</td>\n",
              "      <td>d7e0d2ac-9ce8-4ef8-8716-37f546eb3d23</td>\n",
              "      <td>One Life</td>\n",
              "      <td>7</td>\n",
              "      <td>en</td>\n",
              "    </tr>\n",
              "    <tr>\n",
              "      <th>4</th>\n",
              "      <td>user_000001</td>\n",
              "      <td>33672b7a-91e0-4167-8725-a1897584a0da</td>\n",
              "      <td>Kaito</td>\n",
              "      <td>d7d662b6-098e-4961-a0e5-3065ffed95c5</td>\n",
              "      <td>The Universe</td>\n",
              "      <td>4</td>\n",
              "      <td>en</td>\n",
              "    </tr>\n",
              "  </tbody>\n",
              "</table>\n",
              "</div>"
            ],
            "text/plain": [
              "       user_id                             artist_id  ... listen_count langs\n",
              "0  user_000001  7e66c9f6-2451-408e-88ff-2af55276caf1  ...            2    en\n",
              "1  user_000001  9309954a-d550-484d-8cda-8b9f111a7212  ...            1    en\n",
              "2  user_000001  4f69da4b-55a9-434c-a150-6de477d8808f  ...            3    en\n",
              "3  user_000001  0a6eb633-fb2c-4683-9783-58c4e86ea740  ...            7    en\n",
              "4  user_000001  33672b7a-91e0-4167-8725-a1897584a0da  ...            4    en\n",
              "\n",
              "[5 rows x 7 columns]"
            ]
          },
          "metadata": {
            "tags": []
          },
          "execution_count": 4
        }
      ]
    },
    {
      "cell_type": "code",
      "metadata": {
        "id": "VxYfYs1tdITB"
      },
      "source": [
        "def deduce_rating(input_df, method=\"bin\"):\n",
        "  if method == \"bin\":\n",
        "    max_count = max(input_df['listen_count'])\n",
        "    bins = [0, 2, 4, 8, 16, max_count]\n",
        "    input_df['rating'] = pd.cut(input_df['listen_count'], bins=bins, labels=[1, 2, 3, 4, 5])\n",
        "  elif method == \"average\":\n",
        "    user_avg_count = input_df[['user_id', 'listen_count']].groupby('user_id').mean().reset_index().rename(columns = {'listen_count': 'avg_count'})\n",
        "    input_df = input_df.merge(right=user_avg_count, on='user_id')\n",
        "    input_df['rating'] = (input_df['listen_count'] >= input_df['avg_count']).astype(int) + 1\n",
        "  elif method == \"weighted\":\n",
        "    user_max_count = input_df[['user_id', 'listen_count']].groupby('user_id').max().reset_index().rename(columns = {'listen_count': 'max_count'})\n",
        "    input_df = input_df.merge(right=user_max_count, on='user_id')\n",
        "    input_df['rating'] = (4*input_df['listen_count'] / input_df['max_count']).apply(np.ceil) \n",
        "  return input_df"
      ],
      "execution_count": null,
      "outputs": []
    },
    {
      "cell_type": "code",
      "metadata": {
        "colab": {
          "base_uri": "https://localhost:8080/",
          "height": 496
        },
        "id": "YM0bOnx7KHLL",
        "outputId": "9ae6770d-2645-4ae8-a377-dcfbcf4ed333"
      },
      "source": [
        "avg_processed_df = deduce_rating(df, method='average')\n",
        "avg_processed_df.head()"
      ],
      "execution_count": null,
      "outputs": [
        {
          "output_type": "execute_result",
          "data": {
            "text/html": [
              "<div>\n",
              "<style scoped>\n",
              "    .dataframe tbody tr th:only-of-type {\n",
              "        vertical-align: middle;\n",
              "    }\n",
              "\n",
              "    .dataframe tbody tr th {\n",
              "        vertical-align: top;\n",
              "    }\n",
              "\n",
              "    .dataframe thead th {\n",
              "        text-align: right;\n",
              "    }\n",
              "</style>\n",
              "<table border=\"1\" class=\"dataframe\">\n",
              "  <thead>\n",
              "    <tr style=\"text-align: right;\">\n",
              "      <th></th>\n",
              "      <th>user_id</th>\n",
              "      <th>artist_id</th>\n",
              "      <th>artist_name</th>\n",
              "      <th>track_id</th>\n",
              "      <th>track_name</th>\n",
              "      <th>listen_count</th>\n",
              "      <th>langs</th>\n",
              "      <th>avg_count</th>\n",
              "      <th>rating</th>\n",
              "    </tr>\n",
              "  </thead>\n",
              "  <tbody>\n",
              "    <tr>\n",
              "      <th>0</th>\n",
              "      <td>user_000001</td>\n",
              "      <td>7e66c9f6-2451-408e-88ff-2af55276caf1</td>\n",
              "      <td>Opiate</td>\n",
              "      <td>00237585-8e04-4cd5-a785-f2185492ab0b</td>\n",
              "      <td>Monday Nightcap</td>\n",
              "      <td>2</td>\n",
              "      <td>en</td>\n",
              "      <td>17.517445</td>\n",
              "      <td>1</td>\n",
              "    </tr>\n",
              "    <tr>\n",
              "      <th>1</th>\n",
              "      <td>user_000001</td>\n",
              "      <td>9309954a-d550-484d-8cda-8b9f111a7212</td>\n",
              "      <td>Soul Dhamma</td>\n",
              "      <td>d842d1bb-579d-4e76-ad37-a89467c1f113</td>\n",
              "      <td>Flower (The Underwater Garden Dub Aka Scuba Mix)</td>\n",
              "      <td>1</td>\n",
              "      <td>en</td>\n",
              "      <td>17.517445</td>\n",
              "      <td>1</td>\n",
              "    </tr>\n",
              "    <tr>\n",
              "      <th>2</th>\n",
              "      <td>user_000001</td>\n",
              "      <td>4f69da4b-55a9-434c-a150-6de477d8808f</td>\n",
              "      <td>The Young Lovers</td>\n",
              "      <td>d7ffc453-7c42-4fd7-bed6-b749e7a1a60c</td>\n",
              "      <td>You Make Me Dizzy</td>\n",
              "      <td>3</td>\n",
              "      <td>en</td>\n",
              "      <td>17.517445</td>\n",
              "      <td>1</td>\n",
              "    </tr>\n",
              "    <tr>\n",
              "      <th>3</th>\n",
              "      <td>user_000001</td>\n",
              "      <td>0a6eb633-fb2c-4683-9783-58c4e86ea740</td>\n",
              "      <td>The Matthew Herbert Big Band</td>\n",
              "      <td>d7e0d2ac-9ce8-4ef8-8716-37f546eb3d23</td>\n",
              "      <td>One Life</td>\n",
              "      <td>7</td>\n",
              "      <td>en</td>\n",
              "      <td>17.517445</td>\n",
              "      <td>1</td>\n",
              "    </tr>\n",
              "    <tr>\n",
              "      <th>4</th>\n",
              "      <td>user_000001</td>\n",
              "      <td>33672b7a-91e0-4167-8725-a1897584a0da</td>\n",
              "      <td>Kaito</td>\n",
              "      <td>d7d662b6-098e-4961-a0e5-3065ffed95c5</td>\n",
              "      <td>The Universe</td>\n",
              "      <td>4</td>\n",
              "      <td>en</td>\n",
              "      <td>17.517445</td>\n",
              "      <td>1</td>\n",
              "    </tr>\n",
              "  </tbody>\n",
              "</table>\n",
              "</div>"
            ],
            "text/plain": [
              "       user_id                             artist_id  ...  avg_count rating\n",
              "0  user_000001  7e66c9f6-2451-408e-88ff-2af55276caf1  ...  17.517445      1\n",
              "1  user_000001  9309954a-d550-484d-8cda-8b9f111a7212  ...  17.517445      1\n",
              "2  user_000001  4f69da4b-55a9-434c-a150-6de477d8808f  ...  17.517445      1\n",
              "3  user_000001  0a6eb633-fb2c-4683-9783-58c4e86ea740  ...  17.517445      1\n",
              "4  user_000001  33672b7a-91e0-4167-8725-a1897584a0da  ...  17.517445      1\n",
              "\n",
              "[5 rows x 9 columns]"
            ]
          },
          "metadata": {
            "tags": []
          },
          "execution_count": 35
        }
      ]
    },
    {
      "cell_type": "code",
      "metadata": {
        "colab": {
          "base_uri": "https://localhost:8080/",
          "height": 496
        },
        "id": "thCwZtnvOCjB",
        "outputId": "19b60857-c15c-42a8-93b1-34f69837a315"
      },
      "source": [
        "w_processed_df = deduce_rating(df, method='weighted')\n",
        "w_processed_df.head()"
      ],
      "execution_count": null,
      "outputs": [
        {
          "output_type": "execute_result",
          "data": {
            "text/html": [
              "<div>\n",
              "<style scoped>\n",
              "    .dataframe tbody tr th:only-of-type {\n",
              "        vertical-align: middle;\n",
              "    }\n",
              "\n",
              "    .dataframe tbody tr th {\n",
              "        vertical-align: top;\n",
              "    }\n",
              "\n",
              "    .dataframe thead th {\n",
              "        text-align: right;\n",
              "    }\n",
              "</style>\n",
              "<table border=\"1\" class=\"dataframe\">\n",
              "  <thead>\n",
              "    <tr style=\"text-align: right;\">\n",
              "      <th></th>\n",
              "      <th>user_id</th>\n",
              "      <th>artist_id</th>\n",
              "      <th>artist_name</th>\n",
              "      <th>track_id</th>\n",
              "      <th>track_name</th>\n",
              "      <th>listen_count</th>\n",
              "      <th>langs</th>\n",
              "      <th>max_count</th>\n",
              "      <th>rating</th>\n",
              "    </tr>\n",
              "  </thead>\n",
              "  <tbody>\n",
              "    <tr>\n",
              "      <th>0</th>\n",
              "      <td>user_000001</td>\n",
              "      <td>7e66c9f6-2451-408e-88ff-2af55276caf1</td>\n",
              "      <td>Opiate</td>\n",
              "      <td>00237585-8e04-4cd5-a785-f2185492ab0b</td>\n",
              "      <td>Monday Nightcap</td>\n",
              "      <td>2</td>\n",
              "      <td>en</td>\n",
              "      <td>326</td>\n",
              "      <td>1.0</td>\n",
              "    </tr>\n",
              "    <tr>\n",
              "      <th>1</th>\n",
              "      <td>user_000001</td>\n",
              "      <td>9309954a-d550-484d-8cda-8b9f111a7212</td>\n",
              "      <td>Soul Dhamma</td>\n",
              "      <td>d842d1bb-579d-4e76-ad37-a89467c1f113</td>\n",
              "      <td>Flower (The Underwater Garden Dub Aka Scuba Mix)</td>\n",
              "      <td>1</td>\n",
              "      <td>en</td>\n",
              "      <td>326</td>\n",
              "      <td>1.0</td>\n",
              "    </tr>\n",
              "    <tr>\n",
              "      <th>2</th>\n",
              "      <td>user_000001</td>\n",
              "      <td>4f69da4b-55a9-434c-a150-6de477d8808f</td>\n",
              "      <td>The Young Lovers</td>\n",
              "      <td>d7ffc453-7c42-4fd7-bed6-b749e7a1a60c</td>\n",
              "      <td>You Make Me Dizzy</td>\n",
              "      <td>3</td>\n",
              "      <td>en</td>\n",
              "      <td>326</td>\n",
              "      <td>1.0</td>\n",
              "    </tr>\n",
              "    <tr>\n",
              "      <th>3</th>\n",
              "      <td>user_000001</td>\n",
              "      <td>0a6eb633-fb2c-4683-9783-58c4e86ea740</td>\n",
              "      <td>The Matthew Herbert Big Band</td>\n",
              "      <td>d7e0d2ac-9ce8-4ef8-8716-37f546eb3d23</td>\n",
              "      <td>One Life</td>\n",
              "      <td>7</td>\n",
              "      <td>en</td>\n",
              "      <td>326</td>\n",
              "      <td>1.0</td>\n",
              "    </tr>\n",
              "    <tr>\n",
              "      <th>4</th>\n",
              "      <td>user_000001</td>\n",
              "      <td>33672b7a-91e0-4167-8725-a1897584a0da</td>\n",
              "      <td>Kaito</td>\n",
              "      <td>d7d662b6-098e-4961-a0e5-3065ffed95c5</td>\n",
              "      <td>The Universe</td>\n",
              "      <td>4</td>\n",
              "      <td>en</td>\n",
              "      <td>326</td>\n",
              "      <td>1.0</td>\n",
              "    </tr>\n",
              "  </tbody>\n",
              "</table>\n",
              "</div>"
            ],
            "text/plain": [
              "       user_id                             artist_id  ... max_count rating\n",
              "0  user_000001  7e66c9f6-2451-408e-88ff-2af55276caf1  ...       326    1.0\n",
              "1  user_000001  9309954a-d550-484d-8cda-8b9f111a7212  ...       326    1.0\n",
              "2  user_000001  4f69da4b-55a9-434c-a150-6de477d8808f  ...       326    1.0\n",
              "3  user_000001  0a6eb633-fb2c-4683-9783-58c4e86ea740  ...       326    1.0\n",
              "4  user_000001  33672b7a-91e0-4167-8725-a1897584a0da  ...       326    1.0\n",
              "\n",
              "[5 rows x 9 columns]"
            ]
          },
          "metadata": {
            "tags": []
          },
          "execution_count": 36
        }
      ]
    },
    {
      "cell_type": "code",
      "metadata": {
        "colab": {
          "base_uri": "https://localhost:8080/"
        },
        "id": "hsyN1e4r4CZM",
        "outputId": "3f2e8abf-1bd9-4685-a39f-5d5888d13eed"
      },
      "source": [
        "df.listen_count.describe()"
      ],
      "execution_count": null,
      "outputs": [
        {
          "output_type": "execute_result",
          "data": {
            "text/plain": [
              "count    3.286639e+06\n",
              "mean     3.105519e+01\n",
              "std      4.387777e+01\n",
              "min      1.000000e+00\n",
              "25%      3.000000e+00\n",
              "50%      1.300000e+01\n",
              "75%      4.000000e+01\n",
              "max      3.460000e+02\n",
              "Name: listen_count, dtype: float64"
            ]
          },
          "metadata": {
            "tags": []
          },
          "execution_count": 14
        }
      ]
    },
    {
      "cell_type": "code",
      "metadata": {
        "id": "BlwKcV_jNHd6"
      },
      "source": [
        "reader1 = Reader(rating_scale=(0, 1))\n",
        "reader2 = Reader(rating_scale=(1, 5))\n",
        "data_avg = Dataset.load_from_df(avg_processed_df[['user_id', 'track_id', 'rating']], reader1)\n",
        "data_w = Dataset.load_from_df(w_processed_df[['user_id', 'track_id', 'rating']], reader2)"
      ],
      "execution_count": null,
      "outputs": []
    },
    {
      "cell_type": "code",
      "metadata": {
        "id": "tVbypCCLcgat"
      },
      "source": [
        "unbiased_nmf = NMF()\n",
        "biased_nmf = NMF(biased=True)"
      ],
      "execution_count": null,
      "outputs": []
    },
    {
      "cell_type": "code",
      "metadata": {
        "colab": {
          "base_uri": "https://localhost:8080/"
        },
        "id": "9u1lHr9lfkI_",
        "outputId": "a85c2916-0c2c-40a5-c1d5-fd1556e1072e"
      },
      "source": [
        "cross_validate(unbiased_nmf, data_avg, cv=3)"
      ],
      "execution_count": null,
      "outputs": [
        {
          "output_type": "execute_result",
          "data": {
            "text/plain": [
              "{'fit_time': (282.7349741458893, 283.8048918247223, 282.715270280838),\n",
              " 'test_mae': array([0.3300928 , 0.32948423, 0.32998983]),\n",
              " 'test_rmse': array([0.55356702, 0.55317867, 0.55293822]),\n",
              " 'test_time': (14.41196584701538, 15.074196100234985, 14.354099750518799)}"
            ]
          },
          "metadata": {
            "tags": []
          },
          "execution_count": 39
        }
      ]
    },
    {
      "cell_type": "code",
      "metadata": {
        "colab": {
          "base_uri": "https://localhost:8080/"
        },
        "id": "Oht_mBCdRBxd",
        "outputId": "cf1a9aba-ceff-4187-cb6f-410382b9fe0e"
      },
      "source": [
        "cross_validate(unbiased_nmf, data_w, cv=3)"
      ],
      "execution_count": null,
      "outputs": [
        {
          "output_type": "execute_result",
          "data": {
            "text/plain": [
              "{'fit_time': (286.1133282184601, 280.96778202056885, 280.3645770549774),\n",
              " 'test_mae': array([0.04160316, 0.04158343, 0.04178305]),\n",
              " 'test_rmse': array([0.10452802, 0.10457839, 0.10518975]),\n",
              " 'test_time': (14.504460573196411, 13.282303094863892, 13.301212310791016)}"
            ]
          },
          "metadata": {
            "tags": []
          },
          "execution_count": 40
        }
      ]
    },
    {
      "cell_type": "code",
      "metadata": {
        "colab": {
          "base_uri": "https://localhost:8080/"
        },
        "id": "Vra5aaBRfnDY",
        "outputId": "a77c8464-ed25-484d-a575-d4655bbab620"
      },
      "source": [
        "cross_validate(biased_nmf, data_avg, cv=3)"
      ],
      "execution_count": null,
      "outputs": [
        {
          "output_type": "execute_result",
          "data": {
            "text/plain": [
              "{'fit_time': (273.8732876777649, 292.16552925109863, 283.5116219520569),\n",
              " 'test_mae': array([0.32339387, 0.32329936, 0.32489719]),\n",
              " 'test_rmse': array([0.56021553, 0.55764785, 0.56062739]),\n",
              " 'test_time': (14.458827495574951, 16.595274209976196, 14.270854473114014)}"
            ]
          },
          "metadata": {
            "tags": []
          },
          "execution_count": 41
        }
      ]
    },
    {
      "cell_type": "code",
      "metadata": {
        "colab": {
          "base_uri": "https://localhost:8080/"
        },
        "id": "m5ArhdWBVOrc",
        "outputId": "19fdb4d0-934f-4200-8c06-644be102feee"
      },
      "source": [
        "cross_validate(biased_nmf, data_w, cv=3)"
      ],
      "execution_count": null,
      "outputs": [
        {
          "output_type": "execute_result",
          "data": {
            "text/plain": [
              "{'fit_time': (282.2412486076355, 291.0680482387543, 283.9489734172821),\n",
              " 'test_mae': array([0.04660648, 0.03984999, 0.05346794]),\n",
              " 'test_rmse': array([0.18136182, 0.19259335, 0.17987122]),\n",
              " 'test_time': (19.925740718841553, 14.64728569984436, 16.139964818954468)}"
            ]
          },
          "metadata": {
            "tags": []
          },
          "execution_count": 42
        }
      ]
    },
    {
      "cell_type": "code",
      "metadata": {
        "id": "VemL5cEpf9Kn"
      },
      "source": [
        "sim_options1 = {'name': 'cosine'}\n",
        "sim_options2 = {'name': 'pearson'}\n",
        "knn_basic1 = KNNBasic(sim_options=sim_options1)\n",
        "knn_basic2 = KNNBasic(sim_options=sim_options2)"
      ],
      "execution_count": null,
      "outputs": []
    },
    {
      "cell_type": "code",
      "metadata": {
        "colab": {
          "base_uri": "https://localhost:8080/"
        },
        "id": "Z1Amj3Yu86OK",
        "outputId": "ec43cb79-03cc-4591-a68d-fd8718e96ca7"
      },
      "source": [
        "cross_validate(knn_basic1, data_avg, cv=3)"
      ],
      "execution_count": null,
      "outputs": [
        {
          "output_type": "stream",
          "text": [
            "Computing the cosine similarity matrix...\n",
            "Done computing similarity matrix.\n",
            "Computing the cosine similarity matrix...\n",
            "Done computing similarity matrix.\n",
            "Computing the cosine similarity matrix...\n",
            "Done computing similarity matrix.\n"
          ],
          "name": "stdout"
        },
        {
          "output_type": "execute_result",
          "data": {
            "text/plain": [
              "{'fit_time': (4.807729721069336, 7.247901201248169, 7.418306112289429),\n",
              " 'test_mae': array([0.30230378, 0.30359109, 0.30219543]),\n",
              " 'test_rmse': array([0.54982159, 0.550991  , 0.54972305]),\n",
              " 'test_time': (59.79862380027771, 60.016611099243164, 60.98576498031616)}"
            ]
          },
          "metadata": {
            "tags": []
          },
          "execution_count": 45
        }
      ]
    },
    {
      "cell_type": "code",
      "metadata": {
        "colab": {
          "base_uri": "https://localhost:8080/"
        },
        "id": "Om2mBVNTVV3o",
        "outputId": "5bb20736-255c-4b41-a68c-b8704047318b"
      },
      "source": [
        "cross_validate(knn_basic1, data_w, cv=3)"
      ],
      "execution_count": null,
      "outputs": [
        {
          "output_type": "stream",
          "text": [
            "Computing the cosine similarity matrix...\n",
            "Done computing similarity matrix.\n",
            "Computing the cosine similarity matrix...\n",
            "Done computing similarity matrix.\n",
            "Computing the cosine similarity matrix...\n",
            "Done computing similarity matrix.\n"
          ],
          "name": "stdout"
        },
        {
          "output_type": "execute_result",
          "data": {
            "text/plain": [
              "{'fit_time': (7.3888890743255615, 6.996972560882568, 7.406790494918823),\n",
              " 'test_mae': array([0.02931909, 0.02956736, 0.02934519]),\n",
              " 'test_rmse': array([0.0927593 , 0.09419935, 0.093442  ]),\n",
              " 'test_time': (60.97627663612366, 57.92845797538757, 58.2506947517395)}"
            ]
          },
          "metadata": {
            "tags": []
          },
          "execution_count": 46
        }
      ]
    },
    {
      "cell_type": "code",
      "metadata": {
        "colab": {
          "base_uri": "https://localhost:8080/"
        },
        "id": "F6Z0JNmKgkVn",
        "outputId": "1bae5fb5-35d7-42a4-8233-180f5a44d08d"
      },
      "source": [
        "cross_validate(knn_basic2, data_avg, cv=3)"
      ],
      "execution_count": null,
      "outputs": [
        {
          "output_type": "stream",
          "text": [
            "Computing the pearson similarity matrix...\n",
            "Done computing similarity matrix.\n",
            "Computing the pearson similarity matrix...\n",
            "Done computing similarity matrix.\n",
            "Computing the pearson similarity matrix...\n",
            "Done computing similarity matrix.\n"
          ],
          "name": "stdout"
        },
        {
          "output_type": "execute_result",
          "data": {
            "text/plain": [
              "{'fit_time': (6.740442514419556, 8.724730968475342, 8.695922136306763),\n",
              " 'test_mae': array([0.30222711, 0.30264726, 0.30321593]),\n",
              " 'test_rmse': array([0.54975186, 0.55013386, 0.55065046]),\n",
              " 'test_time': (62.24664855003357, 56.98918414115906, 58.18808126449585)}"
            ]
          },
          "metadata": {
            "tags": []
          },
          "execution_count": 47
        }
      ]
    },
    {
      "cell_type": "code",
      "metadata": {
        "id": "rjA-jXP5nUjU",
        "colab": {
          "base_uri": "https://localhost:8080/"
        },
        "outputId": "8c5feb0d-bfc7-42df-c35a-a1801ea863b2"
      },
      "source": [
        "cross_validate(knn_basic2, data_w, cv=3)"
      ],
      "execution_count": null,
      "outputs": [
        {
          "output_type": "stream",
          "text": [
            "Computing the pearson similarity matrix...\n",
            "Done computing similarity matrix.\n",
            "Computing the pearson similarity matrix...\n",
            "Done computing similarity matrix.\n",
            "Computing the pearson similarity matrix...\n",
            "Done computing similarity matrix.\n"
          ],
          "name": "stdout"
        },
        {
          "output_type": "execute_result",
          "data": {
            "text/plain": [
              "{'fit_time': (8.623029708862305, 8.673853874206543, 8.712932825088501),\n",
              " 'test_mae': array([0.02977384, 0.02984381, 0.0298074 ]),\n",
              " 'test_rmse': array([0.09415952, 0.09443642, 0.09396313]),\n",
              " 'test_time': (62.31596255302429, 62.38454270362854, 58.73543334007263)}"
            ]
          },
          "metadata": {
            "tags": []
          },
          "execution_count": 48
        }
      ]
    },
    {
      "cell_type": "code",
      "metadata": {
        "id": "dHYjaJwUWSui"
      },
      "source": [
        "import seaborn as sns\n",
        "sns.set_theme()\n",
        "sns.set(rc={'figure.figsize':(11.7,8.27)})\n",
        "user_track_df = df[['user_id', 'track_id']]\n",
        "user_degree = user_track_df.groupby(\"user_id\").count().values.reshape(-1)\n",
        "track_degree = user_track_df.groupby(\"track_id\").count().sample(frac=0.2).values.reshape(-1)\n",
        "\n",
        "track_artist_df = df[['artist_id', 'track_id']]\n",
        "artist_degree = track_artist_df.groupby(\"artist_id\").count().values.reshape(-1)"
      ],
      "execution_count": null,
      "outputs": []
    },
    {
      "cell_type": "code",
      "metadata": {
        "colab": {
          "base_uri": "https://localhost:8080/",
          "height": 550
        },
        "id": "sWbLQiqMy3wH",
        "outputId": "6efe360f-c374-48b3-d4a6-e7e3eec8ec0e"
      },
      "source": [
        "ax = sns.histplot(user_degree, stat=\"density\", bins=50)\n",
        "ax.set(xlabel='degree', title=\"User\")"
      ],
      "execution_count": null,
      "outputs": [
        {
          "output_type": "execute_result",
          "data": {
            "text/plain": [
              "[Text(0.5, 0, 'degree'), Text(0.5, 1.0, 'User')]"
            ]
          },
          "metadata": {
            "tags": []
          },
          "execution_count": 55
        },
        {
          "output_type": "display_data",
          "data": {
            "image/png": "[encoded data removed]",
            "text/plain": [
              "<Figure size 842.4x595.44 with 1 Axes>"
            ]
          },
          "metadata": {
            "tags": []
          }
        }
      ]
    },
    {
      "cell_type": "code",
      "metadata": {
        "colab": {
          "base_uri": "https://localhost:8080/",
          "height": 550
        },
        "id": "xrTzf13uy5Qg",
        "outputId": "1dbb1d0c-dba3-4f51-83a0-f5725222b9f3"
      },
      "source": [
        "ax2 = sns.histplot(track_degree, stat='density', bins=50, binrange=(0, 200))\n",
        "ax2.set(xlabel='degree', title='Track')"
      ],
      "execution_count": null,
      "outputs": [
        {
          "output_type": "execute_result",
          "data": {
            "text/plain": [
              "[Text(0.5, 0, 'degree'), Text(0.5, 1.0, 'Track')]"
            ]
          },
          "metadata": {
            "tags": []
          },
          "execution_count": 56
        },
        {
          "output_type": "display_data",
          "data": {
            "image/png": "[encoded data removed]",
            "text/plain": [
              "<Figure size 842.4x595.44 with 1 Axes>"
            ]
          },
          "metadata": {
            "tags": []
          }
        }
      ]
    },
    {
      "cell_type": "code",
      "metadata": {
        "colab": {
          "base_uri": "https://localhost:8080/",
          "height": 550
        },
        "id": "04LJ6RUOzBbJ",
        "outputId": "9c4d8527-e110-40a2-b630-01aebb21fe0d"
      },
      "source": [
        "ax3 = sns.histplot(artist_degree, stat=\"density\", bins=50, log_scale=(False, True))\n",
        "ax3.set(xlabel='degree', title='Artist (log scale)')"
      ],
      "execution_count": null,
      "outputs": [
        {
          "output_type": "execute_result",
          "data": {
            "text/plain": [
              "[Text(0.5, 0, 'degree'), Text(0.5, 1.0, 'Artist (log scale)')]"
            ]
          },
          "metadata": {
            "tags": []
          },
          "execution_count": 57
        },
        {
          "output_type": "display_data",
          "data": {
            "image/png": "[encoded data removed]",
            "text/plain": [
              "<Figure size 842.4x595.44 with 1 Axes>"
            ]
          },
          "metadata": {
            "tags": []
          }
        }
      ]
    },
    {
      "cell_type": "code",
      "metadata": {
        "id": "9OLslKmlzFIM"
      },
      "source": [
        ""
      ],
      "execution_count": null,
      "outputs": []
    }
  ]
}