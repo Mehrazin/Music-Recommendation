{
 "cells": [
  {
   "cell_type": "code",
   "execution_count": 9,
   "id": "romantic-saskatchewan",
   "metadata": {},
   "outputs": [],
   "source": [
    "from prepross import *\n",
    "import numpy as np\n",
    "import os\n",
    "from dataloader import Vocab\n",
    "pd.options.display.max_rows = 100\n",
    "from embedding import Doc2VecEmbedding\n",
    "import pickle\n",
    "import numpy as np"
   ]
  },
  {
   "cell_type": "code",
   "execution_count": 2,
   "id": "expensive-lesson",
   "metadata": {},
   "outputs": [],
   "source": [
    "class Parse():\n",
    "    def __init__(self):\n",
    "        self.test_mode = True\n",
    "arg = Parse()"
   ]
  },
  {
   "cell_type": "code",
   "execution_count": 3,
   "id": "preliminary-clearance",
   "metadata": {},
   "outputs": [],
   "source": [
    "config = Config(arg)"
   ]
  },
  {
   "cell_type": "code",
   "execution_count": 4,
   "id": "relevant-entrance",
   "metadata": {},
   "outputs": [
    {
     "data": {
      "text/plain": [
       "'/home/mehrazin/Documents/DAV_project/Repository/Music-Recommendation/Dumped/5'"
      ]
     },
     "execution_count": 4,
     "metadata": {},
     "output_type": "execute_result"
    }
   ],
   "source": [
    "config.exp_dir"
   ]
  },
  {
   "cell_type": "code",
   "execution_count": 5,
   "id": "romance-composition",
   "metadata": {
    "scrolled": true
   },
   "outputs": [],
   "source": [
    "df = Data_handler(config, pass_col = ['lyrics'])\n",
    "# df.data = df.get_masked_data(users = df.users[:3], fracs = [0.1,0.2,0.1])\n",
    "# df.data = create_session(df.data, config)\n",
    "# df.data = clean_data(df.data, config)\n",
    "# df.data = cut_sessions(df.data, config)\n",
    "# config.clean_mode = ['rm_small_sub_session']\n",
    "# df.data = clean_data(df.data, config)\n",
    "# df.data"
   ]
  },
  {
   "cell_type": "code",
   "execution_count": 6,
   "id": "hybrid-foundation",
   "metadata": {},
   "outputs": [],
   "source": [
    "df.data.dropna(inplace = True)\n",
    "df.data['lyrics'] = df.data['lyrics'].apply(lambda x: x.replace(\"\\n\", \" \"))\n",
    "df.data.reset_index(inplace = True, drop = True)"
   ]
  },
  {
   "cell_type": "code",
   "execution_count": 7,
   "id": "occasional-carolina",
   "metadata": {},
   "outputs": [
    {
     "data": {
      "text/html": [
       "<div>\n",
       "<style scoped>\n",
       "    .dataframe tbody tr th:only-of-type {\n",
       "        vertical-align: middle;\n",
       "    }\n",
       "\n",
       "    .dataframe tbody tr th {\n",
       "        vertical-align: top;\n",
       "    }\n",
       "\n",
       "    .dataframe thead th {\n",
       "        text-align: right;\n",
       "    }\n",
       "</style>\n",
       "<table border=\"1\" class=\"dataframe\">\n",
       "  <thead>\n",
       "    <tr style=\"text-align: right;\">\n",
       "      <th></th>\n",
       "      <th>artist_name</th>\n",
       "      <th>track_name</th>\n",
       "      <th>lyrics</th>\n",
       "    </tr>\n",
       "  </thead>\n",
       "  <tbody>\n",
       "    <tr>\n",
       "      <th>0</th>\n",
       "      <td>Artful Dodger</td>\n",
       "      <td>What You Gonna Do?</td>\n",
       "      <td>Drop the funk, drop the bass Headed, headed fo...</td>\n",
       "    </tr>\n",
       "    <tr>\n",
       "      <th>1</th>\n",
       "      <td>Herbie Hancock</td>\n",
       "      <td>The Essence</td>\n",
       "      <td>This is history right here in the makin' So ca...</td>\n",
       "    </tr>\n",
       "    <tr>\n",
       "      <th>2</th>\n",
       "      <td>Radiohead</td>\n",
       "      <td>Idioteque</td>\n",
       "      <td>Who's in a bunker? Who's in a bunker? Women an...</td>\n",
       "    </tr>\n",
       "    <tr>\n",
       "      <th>3</th>\n",
       "      <td>Black Jazz Chronicles</td>\n",
       "      <td>Dope Stuff</td>\n",
       "      <td>CDsAC/DC - Back in Black (1980) - For Those Ab...</td>\n",
       "    </tr>\n",
       "    <tr>\n",
       "      <th>4</th>\n",
       "      <td>Röyksopp</td>\n",
       "      <td>Only This Moment</td>\n",
       "      <td>Only this (moment) Holds us (together) Close t...</td>\n",
       "    </tr>\n",
       "    <tr>\n",
       "      <th>...</th>\n",
       "      <td>...</td>\n",
       "      <td>...</td>\n",
       "      <td>...</td>\n",
       "    </tr>\n",
       "    <tr>\n",
       "      <th>16651</th>\n",
       "      <td>Chiasm</td>\n",
       "      <td>Isolated</td>\n",
       "      <td>Isolated Alone and apart Isolated Isolated I'l...</td>\n",
       "    </tr>\n",
       "    <tr>\n",
       "      <th>16652</th>\n",
       "      <td>Vnv Nation</td>\n",
       "      <td>Tempest</td>\n",
       "      <td>These are not words, they're only feelings The...</td>\n",
       "    </tr>\n",
       "    <tr>\n",
       "      <th>16653</th>\n",
       "      <td>Apoptygma Berzerk</td>\n",
       "      <td>Coma White</td>\n",
       "      <td>There's something cold and blank behind her sm...</td>\n",
       "    </tr>\n",
       "    <tr>\n",
       "      <th>16654</th>\n",
       "      <td>Hocico</td>\n",
       "      <td>Poltergeist</td>\n",
       "      <td>Turn on your senses with the last moonlight te...</td>\n",
       "    </tr>\n",
       "    <tr>\n",
       "      <th>16655</th>\n",
       "      <td>Josh Groban</td>\n",
       "      <td>My December</td>\n",
       "      <td>This is my December This is my time of the yea...</td>\n",
       "    </tr>\n",
       "  </tbody>\n",
       "</table>\n",
       "<p>16656 rows × 3 columns</p>\n",
       "</div>"
      ],
      "text/plain": [
       "                 artist_name          track_name  \\\n",
       "0              Artful Dodger  What You Gonna Do?   \n",
       "1             Herbie Hancock         The Essence   \n",
       "2                  Radiohead           Idioteque   \n",
       "3      Black Jazz Chronicles          Dope Stuff   \n",
       "4                   Röyksopp    Only This Moment   \n",
       "...                      ...                 ...   \n",
       "16651                 Chiasm            Isolated   \n",
       "16652             Vnv Nation             Tempest   \n",
       "16653      Apoptygma Berzerk          Coma White   \n",
       "16654                 Hocico         Poltergeist   \n",
       "16655            Josh Groban         My December   \n",
       "\n",
       "                                                  lyrics  \n",
       "0      Drop the funk, drop the bass Headed, headed fo...  \n",
       "1      This is history right here in the makin' So ca...  \n",
       "2      Who's in a bunker? Who's in a bunker? Women an...  \n",
       "3      CDsAC/DC - Back in Black (1980) - For Those Ab...  \n",
       "4      Only this (moment) Holds us (together) Close t...  \n",
       "...                                                  ...  \n",
       "16651  Isolated Alone and apart Isolated Isolated I'l...  \n",
       "16652  These are not words, they're only feelings The...  \n",
       "16653  There's something cold and blank behind her sm...  \n",
       "16654  Turn on your senses with the last moonlight te...  \n",
       "16655  This is my December This is my time of the yea...  \n",
       "\n",
       "[16656 rows x 3 columns]"
      ]
     },
     "execution_count": 7,
     "metadata": {},
     "output_type": "execute_result"
    }
   ],
   "source": [
    "df.data"
   ]
  },
  {
   "cell_type": "code",
   "execution_count": 8,
   "id": "invisible-gilbert",
   "metadata": {},
   "outputs": [
    {
     "name": "stderr",
     "output_type": "stream",
     "text": [
      "  0%|          | 23/16656 [00:00<01:39, 166.96it/s]"
     ]
    },
    {
     "name": "stdout",
     "output_type": "stream",
     "text": [
      "tagging documents\n"
     ]
    },
    {
     "name": "stderr",
     "output_type": "stream",
     "text": [
      "100%|██████████| 16656/16656 [03:34<00:00, 77.50it/s] \n"
     ]
    },
    {
     "name": "stdout",
     "output_type": "stream",
     "text": [
      "training doc2vec\n"
     ]
    },
    {
     "name": "stderr",
     "output_type": "stream",
     "text": [
      "\r",
      "  0%|          | 0/16656 [00:00<?, ?it/s]"
     ]
    },
    {
     "name": "stdout",
     "output_type": "stream",
     "text": [
      "inferring vectors\n"
     ]
    },
    {
     "name": "stderr",
     "output_type": "stream",
     "text": [
      "100%|██████████| 16656/16656 [29:01<00:00,  9.56it/s] \n"
     ]
    }
   ],
   "source": [
    "doc2vec = Doc2VecEmbedding(data = df.data, config = config)"
   ]
  },
  {
   "cell_type": "code",
   "execution_count": 23,
   "id": "played-killing",
   "metadata": {},
   "outputs": [],
   "source": [
    "path = os.path.join(config.exp_dir, 'df_doc2vec.csv')\n",
    "# with open(path, 'rb') as f:\n",
    "#     vec = pickle.load(f)\n",
    "emb = pd.read_csv(path)"
   ]
  },
  {
   "cell_type": "code",
   "execution_count": 12,
   "id": "blessed-museum",
   "metadata": {},
   "outputs": [
    {
     "data": {
      "text/plain": [
       "(16656, 500)"
      ]
     },
     "execution_count": 12,
     "metadata": {},
     "output_type": "execute_result"
    }
   ],
   "source": [
    "vec.shape"
   ]
  },
  {
   "cell_type": "code",
   "execution_count": 15,
   "id": "acceptable-flashing",
   "metadata": {},
   "outputs": [],
   "source": [
    "it = df.data.iterrows()\n",
    "t , r = next(it)"
   ]
  },
  {
   "cell_type": "code",
   "execution_count": 20,
   "id": "dominican-junior",
   "metadata": {},
   "outputs": [],
   "source": [
    "df.data.reset_index(inplace = True, drop = True)\n",
    "df.data.reset_index(inplace = True)"
   ]
  },
  {
   "cell_type": "code",
   "execution_count": 21,
   "id": "stretch-biography",
   "metadata": {},
   "outputs": [
    {
     "data": {
      "text/html": [
       "<div>\n",
       "<style scoped>\n",
       "    .dataframe tbody tr th:only-of-type {\n",
       "        vertical-align: middle;\n",
       "    }\n",
       "\n",
       "    .dataframe tbody tr th {\n",
       "        vertical-align: top;\n",
       "    }\n",
       "\n",
       "    .dataframe thead th {\n",
       "        text-align: right;\n",
       "    }\n",
       "</style>\n",
       "<table border=\"1\" class=\"dataframe\">\n",
       "  <thead>\n",
       "    <tr style=\"text-align: right;\">\n",
       "      <th></th>\n",
       "      <th>index</th>\n",
       "      <th>artist_name</th>\n",
       "      <th>track_name</th>\n",
       "      <th>lyrics</th>\n",
       "    </tr>\n",
       "  </thead>\n",
       "  <tbody>\n",
       "    <tr>\n",
       "      <th>0</th>\n",
       "      <td>0</td>\n",
       "      <td>Artful Dodger</td>\n",
       "      <td>What You Gonna Do?</td>\n",
       "      <td>Drop the funk, drop the bass Headed, headed fo...</td>\n",
       "    </tr>\n",
       "    <tr>\n",
       "      <th>1</th>\n",
       "      <td>1</td>\n",
       "      <td>Herbie Hancock</td>\n",
       "      <td>The Essence</td>\n",
       "      <td>This is history right here in the makin' So ca...</td>\n",
       "    </tr>\n",
       "    <tr>\n",
       "      <th>2</th>\n",
       "      <td>2</td>\n",
       "      <td>Radiohead</td>\n",
       "      <td>Idioteque</td>\n",
       "      <td>Who's in a bunker? Who's in a bunker? Women an...</td>\n",
       "    </tr>\n",
       "    <tr>\n",
       "      <th>3</th>\n",
       "      <td>3</td>\n",
       "      <td>Black Jazz Chronicles</td>\n",
       "      <td>Dope Stuff</td>\n",
       "      <td>CDsAC/DC - Back in Black (1980) - For Those Ab...</td>\n",
       "    </tr>\n",
       "    <tr>\n",
       "      <th>4</th>\n",
       "      <td>4</td>\n",
       "      <td>Röyksopp</td>\n",
       "      <td>Only This Moment</td>\n",
       "      <td>Only this (moment) Holds us (together) Close t...</td>\n",
       "    </tr>\n",
       "    <tr>\n",
       "      <th>...</th>\n",
       "      <td>...</td>\n",
       "      <td>...</td>\n",
       "      <td>...</td>\n",
       "      <td>...</td>\n",
       "    </tr>\n",
       "    <tr>\n",
       "      <th>16651</th>\n",
       "      <td>16651</td>\n",
       "      <td>Chiasm</td>\n",
       "      <td>Isolated</td>\n",
       "      <td>Isolated Alone and apart Isolated Isolated I'l...</td>\n",
       "    </tr>\n",
       "    <tr>\n",
       "      <th>16652</th>\n",
       "      <td>16652</td>\n",
       "      <td>Vnv Nation</td>\n",
       "      <td>Tempest</td>\n",
       "      <td>These are not words, they're only feelings The...</td>\n",
       "    </tr>\n",
       "    <tr>\n",
       "      <th>16653</th>\n",
       "      <td>16653</td>\n",
       "      <td>Apoptygma Berzerk</td>\n",
       "      <td>Coma White</td>\n",
       "      <td>There's something cold and blank behind her sm...</td>\n",
       "    </tr>\n",
       "    <tr>\n",
       "      <th>16654</th>\n",
       "      <td>16654</td>\n",
       "      <td>Hocico</td>\n",
       "      <td>Poltergeist</td>\n",
       "      <td>Turn on your senses with the last moonlight te...</td>\n",
       "    </tr>\n",
       "    <tr>\n",
       "      <th>16655</th>\n",
       "      <td>16655</td>\n",
       "      <td>Josh Groban</td>\n",
       "      <td>My December</td>\n",
       "      <td>This is my December This is my time of the yea...</td>\n",
       "    </tr>\n",
       "  </tbody>\n",
       "</table>\n",
       "<p>16656 rows × 4 columns</p>\n",
       "</div>"
      ],
      "text/plain": [
       "       index            artist_name          track_name  \\\n",
       "0          0          Artful Dodger  What You Gonna Do?   \n",
       "1          1         Herbie Hancock         The Essence   \n",
       "2          2              Radiohead           Idioteque   \n",
       "3          3  Black Jazz Chronicles          Dope Stuff   \n",
       "4          4               Röyksopp    Only This Moment   \n",
       "...      ...                    ...                 ...   \n",
       "16651  16651                 Chiasm            Isolated   \n",
       "16652  16652             Vnv Nation             Tempest   \n",
       "16653  16653      Apoptygma Berzerk          Coma White   \n",
       "16654  16654                 Hocico         Poltergeist   \n",
       "16655  16655            Josh Groban         My December   \n",
       "\n",
       "                                                  lyrics  \n",
       "0      Drop the funk, drop the bass Headed, headed fo...  \n",
       "1      This is history right here in the makin' So ca...  \n",
       "2      Who's in a bunker? Who's in a bunker? Women an...  \n",
       "3      CDsAC/DC - Back in Black (1980) - For Those Ab...  \n",
       "4      Only this (moment) Holds us (together) Close t...  \n",
       "...                                                  ...  \n",
       "16651  Isolated Alone and apart Isolated Isolated I'l...  \n",
       "16652  These are not words, they're only feelings The...  \n",
       "16653  There's something cold and blank behind her sm...  \n",
       "16654  Turn on your senses with the last moonlight te...  \n",
       "16655  This is my December This is my time of the yea...  \n",
       "\n",
       "[16656 rows x 4 columns]"
      ]
     },
     "execution_count": 21,
     "metadata": {},
     "output_type": "execute_result"
    }
   ],
   "source": [
    "df.data"
   ]
  },
  {
   "cell_type": "code",
   "execution_count": 29,
   "id": "automated-harmony",
   "metadata": {},
   "outputs": [],
   "source": [
    "dic = {(row['artist_name'], row['track_name']) : vec[int(row['index'])] for _,row in df.data.iterrows()}"
   ]
  },
  {
   "cell_type": "code",
   "execution_count": 31,
   "id": "funded-access",
   "metadata": {},
   "outputs": [],
   "source": [
    "name = 'item2emb.pkl'\n",
    "path = os.path.join(config.exp_dir, name)\n",
    "with open(path, 'wb') as f:\n",
    "    pickle.dump(dic, f)"
   ]
  },
  {
   "cell_type": "code",
   "execution_count": 5,
   "id": "subsequent-glossary",
   "metadata": {},
   "outputs": [],
   "source": [
    "# df.data.to_csv(os.path.join(config.Dataset_dir, 'test_tab.tsv'), sep = '\\t', index=False, header = False)"
   ]
  }
 ],
 "metadata": {
  "kernelspec": {
   "display_name": "Python 3",
   "language": "python",
   "name": "python3"
  },
  "language_info": {
   "codemirror_mode": {
    "name": "ipython",
    "version": 3
   },
   "file_extension": ".py",
   "mimetype": "text/x-python",
   "name": "python",
   "nbconvert_exporter": "python",
   "pygments_lexer": "ipython3",
   "version": "3.8.5"
  }
 },
 "nbformat": 4,
 "nbformat_minor": 5
}
