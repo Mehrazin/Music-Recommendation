{
 "cells": [
  {
   "cell_type": "markdown",
   "id": "rising-helena",
   "metadata": {},
   "source": [
    "# Data Prepration"
   ]
  },
  {
   "cell_type": "code",
   "execution_count": 1,
   "id": "romantic-saskatchewan",
   "metadata": {},
   "outputs": [
    {
     "name": "stderr",
     "output_type": "stream",
     "text": [
      "[nltk_data] Downloading package stopwords to\n",
      "[nltk_data]     /home/mehrazin/nltk_data...\n",
      "[nltk_data]   Package stopwords is already up-to-date!\n",
      "[nltk_data] Downloading package punkt to /home/mehrazin/nltk_data...\n",
      "[nltk_data]   Package punkt is already up-to-date!\n"
     ]
    }
   ],
   "source": [
    "from prepross import *\n",
    "import numpy as np\n",
    "import os\n",
    "import dataloader\n",
    "from dataloader import Vocab\n",
    "pd.options.display.max_rows = 100\n",
    "from embedding import Doc2VecEmbedding\n",
    "import pickle\n",
    "import numpy as np\n",
    "import time"
   ]
  },
  {
   "cell_type": "code",
   "execution_count": 2,
   "id": "expensive-lesson",
   "metadata": {},
   "outputs": [],
   "source": [
    "class Parse():\n",
    "    def __init__(self):\n",
    "        self.test_mode = True\n",
    "        self.load_vocab = True\n",
    "arg = Parse()"
   ]
  },
  {
   "cell_type": "code",
   "execution_count": 3,
   "id": "preliminary-clearance",
   "metadata": {},
   "outputs": [],
   "source": [
    "config = Config(arg)"
   ]
  },
  {
   "cell_type": "code",
   "execution_count": 4,
   "id": "relevant-entrance",
   "metadata": {},
   "outputs": [
    {
     "data": {
      "text/plain": [
       "'/home/mehrazin/Documents/DAV_project/Repository/Music-Recommendation/Dumped/12'"
      ]
     },
     "execution_count": 4,
     "metadata": {},
     "output_type": "execute_result"
    }
   ],
   "source": [
    "config.exp_dir"
   ]
  },
  {
   "cell_type": "code",
   "execution_count": 5,
   "id": "injured-portsmouth",
   "metadata": {},
   "outputs": [
    {
     "data": {
      "text/plain": [
       "'/home/mehrazin/Documents/DAV_project/Repository/Music-Recommendation/Dataset/Test/1k-item/Datasets'"
      ]
     },
     "execution_count": 5,
     "metadata": {},
     "output_type": "execute_result"
    }
   ],
   "source": [
    "config.Dataset_dir"
   ]
  },
  {
   "cell_type": "code",
   "execution_count": 6,
   "id": "desirable-pontiac",
   "metadata": {},
   "outputs": [
    {
     "data": {
      "text/plain": [
       "device(type='cpu')"
      ]
     },
     "execution_count": 6,
     "metadata": {},
     "output_type": "execute_result"
    }
   ],
   "source": [
    "config.device"
   ]
  },
  {
   "cell_type": "code",
   "execution_count": 7,
   "id": "romance-composition",
   "metadata": {
    "scrolled": true
   },
   "outputs": [],
   "source": [
    "# df = Data_handler(config, pass_col = ['lyrics'])\n",
    "# df.data = df.get_masked_data(users = df.users[:3], fracs = [0.1,0.2,0.1])\n",
    "# df.data = create_session(df.data, config)\n",
    "# df.data = clean_data(df.data, config)\n",
    "# df.data = cut_sessions(df.data, config)\n",
    "# config.clean_mode = ['rm_small_sub_session']\n",
    "# df.data = clean_data(df.data, config)\n",
    "# df.data"
   ]
  },
  {
   "cell_type": "markdown",
   "id": "capable-culture",
   "metadata": {},
   "source": [
    "# Model Prepration"
   ]
  },
  {
   "cell_type": "code",
   "execution_count": 8,
   "id": "faced-proceeding",
   "metadata": {},
   "outputs": [],
   "source": [
    "import torch\n",
    "import torch.nn as nn\n",
    "from torch.utils.data import Dataset\n",
    "from torch.utils.data import DataLoader\n",
    "from torch.utils.tensorboard import SummaryWriter\n",
    "from dataloader import Music_data, create_data_loader\n",
    "import torch.optim as optim\n",
    "import torch.nn.functional as F\n",
    "import Model\n",
    "import random\n",
    "from Model import create_embeding, Seq2Seq, Encoder, Decoder"
   ]
  },
  {
   "cell_type": "code",
   "execution_count": 9,
   "id": "proof-nylon",
   "metadata": {},
   "outputs": [],
   "source": [
    "seed = 0\n",
    "\"\"\"Set seed\"\"\"\n",
    "random.seed(seed)\n",
    "np.random.seed(seed)\n",
    "torch.manual_seed(seed)\n",
    "if torch.cuda.is_available():\n",
    "    torch.cuda.manual_seed(seed)\n",
    "    torch.cuda.manual_seed_all(seed)\n",
    "    torch.backends.cudnn.deterministic = True\n",
    "    torch.backends.cudnn.benchmark = False\n",
    "os.environ[\"PYTHONHASHSEED\"] = str(seed)"
   ]
  },
  {
   "cell_type": "code",
   "execution_count": 50,
   "id": "active-sharing",
   "metadata": {},
   "outputs": [],
   "source": [
    "config.num_epochs = 1000\n",
    "config.batch_size = 50\n",
    "config.learning_rate = 0.001"
   ]
  },
  {
   "cell_type": "code",
   "execution_count": 44,
   "id": "separated-folder",
   "metadata": {},
   "outputs": [],
   "source": [
    "embedding, dim, _ = Model.create_embeding(config)\n",
    "train_iterator = create_data_loader(config, 'train', shuffle = True)\n",
    "test_iterator = create_data_loader(config, 'test', shuffle = True)\n",
    "valid_iterator = create_data_loader(config, 'valid', shuffle = True)\n",
    "itr = iter(train_iterator)\n",
    "# df = Music_data(config, 'train')"
   ]
  },
  {
   "cell_type": "code",
   "execution_count": 45,
   "id": "transparent-rescue",
   "metadata": {},
   "outputs": [],
   "source": [
    "enc = Encoder(config).to(config.device)\n",
    "dec = Decoder(config).to(config.device)\n",
    "model = Seq2Seq(config, enc, dec).to(config.device)"
   ]
  },
  {
   "cell_type": "code",
   "execution_count": 46,
   "id": "explicit-creek",
   "metadata": {},
   "outputs": [],
   "source": [
    "optimizer = optim.Adam(model.parameters(), lr=config.learning_rate)\n",
    "pad_idx = config.pad_index\n",
    "criterion = nn.CrossEntropyLoss(ignore_index=pad_idx)"
   ]
  },
  {
   "cell_type": "code",
   "execution_count": 55,
   "id": "acquired-circle",
   "metadata": {},
   "outputs": [],
   "source": [
    "# Tensorboard to get nice loss plot\n",
    "writer = SummaryWriter(f\"runs/loss_plot\")\n",
    "step = 0"
   ]
  },
  {
   "cell_type": "code",
   "execution_count": 52,
   "id": "civic-conviction",
   "metadata": {},
   "outputs": [],
   "source": [
    "# Overfit a single batch\n",
    "batch = next(iter(train_iterator))"
   ]
  },
  {
   "cell_type": "code",
   "execution_count": 56,
   "id": "eleven-thunder",
   "metadata": {},
   "outputs": [
    {
     "name": "stdout",
     "output_type": "stream",
     "text": [
      "0.012327116914093494\n",
      "0.012321611866354942\n",
      "0.012316377833485603\n",
      "0.012315361760556698\n",
      "0.012310433201491833\n",
      "0.01230187900364399\n",
      "0.012297390960156918\n",
      "0.012293086387217045\n",
      "0.012288909405469894\n",
      "0.012284868396818638\n",
      "0.012280971743166447\n",
      "0.012277207337319851\n",
      "0.01227356493473053\n",
      "0.012270040810108185\n",
      "0.012266633100807667\n",
      "0.01226332038640976\n",
      "0.012263131327927113\n",
      "0.012257017195224762\n",
      "0.01225692592561245\n",
      "0.01225114706903696\n",
      "0.012251116335391998\n",
      "0.012245637364685535\n",
      "0.0122429970651865\n",
      "0.012240436859428883\n",
      "0.012240491807460785\n",
      "0.012235532514750957\n",
      "0.012233204208314419\n",
      "0.012230923399329185\n",
      "0.012231077067553997\n",
      "0.012226566672325134\n",
      "0.012224476784467697\n",
      "0.012222427874803543\n",
      "0.012221090495586395\n",
      "0.012221379205584526\n",
      "0.012219298630952835\n",
      "0.01221501361578703\n",
      "0.012213167734444141\n",
      "0.012211400084197521\n",
      "0.012209679000079632\n",
      "0.012209980748593807\n",
      "0.012206382118165493\n",
      "0.012204792350530624\n",
      "0.012205123901367188\n",
      "0.01220356673002243\n",
      "0.012200291268527508\n",
      "0.012198833748698235\n",
      "0.012197425588965416\n",
      "0.012197763659060001\n",
      "0.012194863520562649\n",
      "0.012200623750686646\n",
      "Performance: 144.51428685 seconds\n"
     ]
    }
   ],
   "source": [
    "tic = time.perf_counter()\n",
    "for epoch in range(config.num_epochs):\n",
    "#     for batch_idx, batch in enumerate(train_iterator):\n",
    "    _, source, target = batch\n",
    "    source = (source[0].to(config.device), source[1].to(config.device))\n",
    "    target = (target[0].to(config.device), target[1].to(config.device))\n",
    "    output = model(config, source, target)\n",
    "\n",
    "    output = output[1:].reshape(-1, output.shape[2])\n",
    "    target = target[0][1:].reshape(-1)\n",
    "\n",
    "    optimizer.zero_grad()\n",
    "    loss = criterion(output, target)\n",
    "\n",
    "    # Back prop\n",
    "    loss.backward()\n",
    "    if epoch%20 == 0:\n",
    "        print(loss.item())\n",
    "\n",
    "    # Clip to avoid exploding gradient issues, makes sure grads are\n",
    "    # within a healthy range\n",
    "    torch.nn.utils.clip_grad_norm_(model.parameters(), max_norm=1)\n",
    "\n",
    "    # Gradient descent step\n",
    "    optimizer.step()\n",
    "\n",
    "    # Plot to tensorboard\n",
    "    writer.add_scalar(\"Training loss\", loss, global_step=step)\n",
    "    step += 1\n",
    "toc = time.perf_counter()\n",
    "print(f'Performance: {toc - tic:0.8f} seconds')"
   ]
  },
  {
   "cell_type": "code",
   "execution_count": null,
   "id": "interracial-night",
   "metadata": {},
   "outputs": [],
   "source": []
  }
 ],
 "metadata": {
  "kernelspec": {
   "display_name": "Python 3",
   "language": "python",
   "name": "python3"
  },
  "language_info": {
   "codemirror_mode": {
    "name": "ipython",
    "version": 3
   },
   "file_extension": ".py",
   "mimetype": "text/x-python",
   "name": "python",
   "nbconvert_exporter": "python",
   "pygments_lexer": "ipython3",
   "version": "3.8.5"
  }
 },
 "nbformat": 4,
 "nbformat_minor": 5
}
