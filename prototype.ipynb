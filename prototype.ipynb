{
 "cells": [
  {
   "cell_type": "code",
   "execution_count": 1,
   "id": "romantic-saskatchewan",
   "metadata": {},
   "outputs": [],
   "source": [
    "from prepross import *\n",
    "import numpy as np\n",
    "import os\n",
    "from dataloader import Vocab\n",
    "pd.options.display.max_rows = 100"
   ]
  },
  {
   "cell_type": "code",
   "execution_count": 2,
   "id": "preliminary-clearance",
   "metadata": {},
   "outputs": [],
   "source": [
    "config = Config()"
   ]
  },
  {
   "cell_type": "code",
   "execution_count": 3,
   "id": "relevant-entrance",
   "metadata": {},
   "outputs": [
    {
     "data": {
      "text/plain": [
       "'/home/mehrazin/Documents/DAV project/Repository/Music-Recommendation/Dumped/7'"
      ]
     },
     "execution_count": 3,
     "metadata": {},
     "output_type": "execute_result"
    }
   ],
   "source": [
    "config.exp_dir"
   ]
  },
  {
   "cell_type": "code",
   "execution_count": 4,
   "id": "romance-composition",
   "metadata": {
    "scrolled": true
   },
   "outputs": [
    {
     "data": {
      "text/html": [
       "<div>\n",
       "<style scoped>\n",
       "    .dataframe tbody tr th:only-of-type {\n",
       "        vertical-align: middle;\n",
       "    }\n",
       "\n",
       "    .dataframe tbody tr th {\n",
       "        vertical-align: top;\n",
       "    }\n",
       "\n",
       "    .dataframe thead th {\n",
       "        text-align: right;\n",
       "    }\n",
       "</style>\n",
       "<table border=\"1\" class=\"dataframe\">\n",
       "  <thead>\n",
       "    <tr style=\"text-align: right;\">\n",
       "      <th></th>\n",
       "      <th>user_id</th>\n",
       "      <th>timestamp</th>\n",
       "      <th>artist_name</th>\n",
       "      <th>track_name</th>\n",
       "      <th>Session</th>\n",
       "      <th>sub_session</th>\n",
       "    </tr>\n",
       "  </thead>\n",
       "  <tbody>\n",
       "    <tr>\n",
       "      <th>0</th>\n",
       "      <td>user_000001</td>\n",
       "      <td>2006-08-13 13:59:20+00:00</td>\n",
       "      <td>Plaid &amp; Bob Jaroc</td>\n",
       "      <td>The Launching Of Big Face</td>\n",
       "      <td>U0S1</td>\n",
       "      <td>1</td>\n",
       "    </tr>\n",
       "    <tr>\n",
       "      <th>1</th>\n",
       "      <td>user_000001</td>\n",
       "      <td>2006-08-13 14:10:43+00:00</td>\n",
       "      <td>Plaid &amp; Bob Jaroc</td>\n",
       "      <td>The Return Of Super Barrio - End Credits</td>\n",
       "      <td>U0S1</td>\n",
       "      <td>1</td>\n",
       "    </tr>\n",
       "    <tr>\n",
       "      <th>2</th>\n",
       "      <td>user_000001</td>\n",
       "      <td>2006-08-13 14:19:06+00:00</td>\n",
       "      <td>Artful Dodger</td>\n",
       "      <td>What You Gonna Do?</td>\n",
       "      <td>U0S1</td>\n",
       "      <td>1</td>\n",
       "    </tr>\n",
       "    <tr>\n",
       "      <th>3</th>\n",
       "      <td>user_000001</td>\n",
       "      <td>2006-08-13 14:23:03+00:00</td>\n",
       "      <td>Rei Harakami</td>\n",
       "      <td>Joy</td>\n",
       "      <td>U0S1</td>\n",
       "      <td>1</td>\n",
       "    </tr>\n",
       "    <tr>\n",
       "      <th>4</th>\n",
       "      <td>user_000001</td>\n",
       "      <td>2006-08-13 14:55:14+00:00</td>\n",
       "      <td>Herbie Hancock</td>\n",
       "      <td>The Essence</td>\n",
       "      <td>U0S1</td>\n",
       "      <td>1</td>\n",
       "    </tr>\n",
       "    <tr>\n",
       "      <th>...</th>\n",
       "      <td>...</td>\n",
       "      <td>...</td>\n",
       "      <td>...</td>\n",
       "      <td>...</td>\n",
       "      <td>...</td>\n",
       "      <td>...</td>\n",
       "    </tr>\n",
       "    <tr>\n",
       "      <th>30539</th>\n",
       "      <td>user_000004</td>\n",
       "      <td>2007-06-16 21:51:44+00:00</td>\n",
       "      <td>Halou</td>\n",
       "      <td>Wiser</td>\n",
       "      <td>U3S95</td>\n",
       "      <td>1</td>\n",
       "    </tr>\n",
       "    <tr>\n",
       "      <th>30540</th>\n",
       "      <td>user_000004</td>\n",
       "      <td>2007-06-16 21:56:20+00:00</td>\n",
       "      <td>Halou</td>\n",
       "      <td>Political</td>\n",
       "      <td>U3S95</td>\n",
       "      <td>1</td>\n",
       "    </tr>\n",
       "    <tr>\n",
       "      <th>30541</th>\n",
       "      <td>user_000004</td>\n",
       "      <td>2007-06-16 21:59:44+00:00</td>\n",
       "      <td>Halou</td>\n",
       "      <td>I'Ll Carry You</td>\n",
       "      <td>U3S95</td>\n",
       "      <td>1</td>\n",
       "    </tr>\n",
       "    <tr>\n",
       "      <th>30542</th>\n",
       "      <td>user_000004</td>\n",
       "      <td>2007-06-16 22:05:43+00:00</td>\n",
       "      <td>Halou</td>\n",
       "      <td>Tubefed</td>\n",
       "      <td>U3S95</td>\n",
       "      <td>1</td>\n",
       "    </tr>\n",
       "    <tr>\n",
       "      <th>30543</th>\n",
       "      <td>user_000004</td>\n",
       "      <td>2007-06-16 22:29:01+00:00</td>\n",
       "      <td>Halou</td>\n",
       "      <td>Honeythief</td>\n",
       "      <td>U3S95</td>\n",
       "      <td>1</td>\n",
       "    </tr>\n",
       "  </tbody>\n",
       "</table>\n",
       "<p>30544 rows × 6 columns</p>\n",
       "</div>"
      ],
      "text/plain": [
       "           user_id                 timestamp        artist_name  \\\n",
       "0      user_000001 2006-08-13 13:59:20+00:00  Plaid & Bob Jaroc   \n",
       "1      user_000001 2006-08-13 14:10:43+00:00  Plaid & Bob Jaroc   \n",
       "2      user_000001 2006-08-13 14:19:06+00:00      Artful Dodger   \n",
       "3      user_000001 2006-08-13 14:23:03+00:00       Rei Harakami   \n",
       "4      user_000001 2006-08-13 14:55:14+00:00     Herbie Hancock   \n",
       "...            ...                       ...                ...   \n",
       "30539  user_000004 2007-06-16 21:51:44+00:00              Halou   \n",
       "30540  user_000004 2007-06-16 21:56:20+00:00              Halou   \n",
       "30541  user_000004 2007-06-16 21:59:44+00:00              Halou   \n",
       "30542  user_000004 2007-06-16 22:05:43+00:00              Halou   \n",
       "30543  user_000004 2007-06-16 22:29:01+00:00              Halou   \n",
       "\n",
       "                                     track_name Session  sub_session  \n",
       "0                     The Launching Of Big Face    U0S1            1  \n",
       "1      The Return Of Super Barrio - End Credits    U0S1            1  \n",
       "2                            What You Gonna Do?    U0S1            1  \n",
       "3                                           Joy    U0S1            1  \n",
       "4                                   The Essence    U0S1            1  \n",
       "...                                         ...     ...          ...  \n",
       "30539                                     Wiser   U3S95            1  \n",
       "30540                                 Political   U3S95            1  \n",
       "30541                            I'Ll Carry You   U3S95            1  \n",
       "30542                                   Tubefed   U3S95            1  \n",
       "30543                                Honeythief   U3S95            1  \n",
       "\n",
       "[30544 rows x 6 columns]"
      ]
     },
     "execution_count": 4,
     "metadata": {},
     "output_type": "execute_result"
    }
   ],
   "source": [
    "df = Data_handler(config)\n",
    "df.data = df.get_masked_data(users = df.users[:4], fracs = [0.3, 0.4, 0.5, 0.2])\n",
    "df.data = create_session(df.data, config)\n",
    "df.data = clean_data(df.data, config)\n",
    "df.data = cut_sessions(df.data, config)\n",
    "config.clean_mode = ['rm_small_sub_session']\n",
    "df.data = clean_data(df.data, config)\n",
    "df.data"
   ]
  },
  {
   "cell_type": "code",
   "execution_count": 5,
   "id": "subsequent-glossary",
   "metadata": {},
   "outputs": [],
   "source": [
    "# df.data.to_csv(os.path.join(config.Dataset_dir, 'test_tab.tsv'), sep = '\\t', index=False, header = False)"
   ]
  }
 ],
 "metadata": {
  "kernelspec": {
   "display_name": "Python 3",
   "language": "python",
   "name": "python3"
  },
  "language_info": {
   "codemirror_mode": {
    "name": "ipython",
    "version": 3
   },
   "file_extension": ".py",
   "mimetype": "text/x-python",
   "name": "python",
   "nbconvert_exporter": "python",
   "pygments_lexer": "ipython3",
   "version": "3.8.5"
  }
 },
 "nbformat": 4,
 "nbformat_minor": 5
}
