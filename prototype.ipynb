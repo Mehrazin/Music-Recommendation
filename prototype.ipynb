{
 "cells": [
  {
   "cell_type": "markdown",
   "id": "north-malta",
   "metadata": {},
   "source": [
    "# Data Prepration"
   ]
  },
  {
   "cell_type": "code",
   "execution_count": 1,
   "id": "romantic-saskatchewan",
   "metadata": {},
   "outputs": [
    {
     "name": "stderr",
     "output_type": "stream",
     "text": [
      "[nltk_data] Downloading package stopwords to\n",
      "[nltk_data]     /home/mehrazin/nltk_data...\n",
      "[nltk_data]   Package stopwords is already up-to-date!\n",
      "[nltk_data] Downloading package punkt to /home/mehrazin/nltk_data...\n",
      "[nltk_data]   Package punkt is already up-to-date!\n"
     ]
    }
   ],
   "source": [
    "from prepross import *\n",
    "import numpy as np\n",
    "import os\n",
    "import dataloader\n",
    "from dataloader import Vocab\n",
    "pd.options.display.max_rows = 100\n",
    "from embedding import Doc2VecEmbedding\n",
    "import pickle\n",
    "import numpy as np\n",
    "import time"
   ]
  },
  {
   "cell_type": "code",
   "execution_count": 2,
   "id": "expensive-lesson",
   "metadata": {},
   "outputs": [],
   "source": [
    "class Parse():\n",
    "    def __init__(self):\n",
    "        self.test_mode = True\n",
    "arg = Parse()"
   ]
  },
  {
   "cell_type": "code",
   "execution_count": 3,
   "id": "preliminary-clearance",
   "metadata": {},
   "outputs": [],
   "source": [
    "config = Config(arg)"
   ]
  },
  {
   "cell_type": "code",
   "execution_count": 4,
   "id": "relevant-entrance",
   "metadata": {},
   "outputs": [
    {
     "data": {
      "text/plain": [
       "'/home/mehrazin/Documents/DAV_project/Repository/Music-Recommendation/Dumped/9'"
      ]
     },
     "execution_count": 4,
     "metadata": {},
     "output_type": "execute_result"
    }
   ],
   "source": [
    "config.exp_dir"
   ]
  },
  {
   "cell_type": "code",
   "execution_count": 5,
   "id": "injured-portsmouth",
   "metadata": {},
   "outputs": [
    {
     "data": {
      "text/plain": [
       "'/home/mehrazin/Documents/DAV_project/Repository/Music-Recommendation/Dataset/Test/1k-item/Datasets'"
      ]
     },
     "execution_count": 5,
     "metadata": {},
     "output_type": "execute_result"
    }
   ],
   "source": [
    "config.Dataset_dir"
   ]
  },
  {
   "cell_type": "code",
   "execution_count": 6,
   "id": "romance-composition",
   "metadata": {
    "scrolled": true
   },
   "outputs": [],
   "source": [
    "# df = Data_handler(config, pass_col = ['lyrics'])\n",
    "# df.data = df.get_masked_data(users = df.users[:3], fracs = [0.1,0.2,0.1])\n",
    "# df.data = create_session(df.data, config)\n",
    "# df.data = clean_data(df.data, config)\n",
    "# df.data = cut_sessions(df.data, config)\n",
    "# config.clean_mode = ['rm_small_sub_session']\n",
    "# df.data = clean_data(df.data, config)\n",
    "# df.data"
   ]
  },
  {
   "cell_type": "markdown",
   "id": "brief-intake",
   "metadata": {},
   "source": [
    "# Model Prepration"
   ]
  },
  {
   "cell_type": "code",
   "execution_count": 7,
   "id": "israeli-composite",
   "metadata": {},
   "outputs": [],
   "source": [
    "import torch\n",
    "import torch.nn as nn\n",
    "from torch.utils.data import Dataset\n",
    "from torch.utils.data import DataLoader\n",
    "from dataloader import Music_data, create_data_loader\n",
    "import torch.nn.functional as F\n",
    "import Model"
   ]
  },
  {
   "cell_type": "code",
   "execution_count": 8,
   "id": "fiscal-shell",
   "metadata": {},
   "outputs": [],
   "source": [
    "embedding, dim = Model.create_embeding(config)\n",
    "loader = create_data_loader(config, 'train')\n",
    "itr = iter(loader)\n",
    "df = Music_data(config, 'train')"
   ]
  },
  {
   "cell_type": "code",
   "execution_count": 11,
   "id": "breeding-burner",
   "metadata": {},
   "outputs": [],
   "source": [
    "i = next(itr)\n"
   ]
  },
  {
   "cell_type": "code",
   "execution_count": 15,
   "id": "banner-importance",
   "metadata": {},
   "outputs": [
    {
     "data": {
      "text/plain": [
       "(tensor([[  1,   1,   1,   1],\n",
       "         [ 39,  39, 164, 164],\n",
       "         [330, 330, 167, 167],\n",
       "         [679, 679,   1, 160],\n",
       "         [114, 114,   0,   1],\n",
       "         [736, 736,   0,   0],\n",
       "         [131, 131,   0,   0],\n",
       "         [  1,  22,   0,   0],\n",
       "         [  0,   1,   0,   0]]),\n",
       " tensor([8, 9, 4, 5]))"
      ]
     },
     "execution_count": 15,
     "metadata": {},
     "output_type": "execute_result"
    }
   ],
   "source": [
    "i[1]"
   ]
  },
  {
   "cell_type": "code",
   "execution_count": 16,
   "id": "instrumental-cassette",
   "metadata": {},
   "outputs": [],
   "source": [
    "u, inpu, out = i"
   ]
  },
  {
   "cell_type": "code",
   "execution_count": 19,
   "id": "incredible-marker",
   "metadata": {},
   "outputs": [
    {
     "data": {
      "text/plain": [
       "tensor([[  1,   1,   1,   1],\n",
       "        [ 39,  39, 164, 164],\n",
       "        [330, 330, 167, 167],\n",
       "        [679, 679,   1, 160],\n",
       "        [114, 114,   0,   1],\n",
       "        [736, 736,   0,   0],\n",
       "        [131, 131,   0,   0],\n",
       "        [  1,  22,   0,   0],\n",
       "        [  0,   1,   0,   0]])"
      ]
     },
     "execution_count": 19,
     "metadata": {},
     "output_type": "execute_result"
    }
   ],
   "source": [
    "inpu[0]"
   ]
  },
  {
   "cell_type": "code",
   "execution_count": 20,
   "id": "brilliant-alcohol",
   "metadata": {},
   "outputs": [],
   "source": [
    "emb = embedding(inpu[0])"
   ]
  },
  {
   "cell_type": "code",
   "execution_count": 22,
   "id": "little-philip",
   "metadata": {},
   "outputs": [
    {
     "data": {
      "text/plain": [
       "torch.Size([9, 4, 500])"
      ]
     },
     "execution_count": 22,
     "metadata": {},
     "output_type": "execute_result"
    }
   ],
   "source": [
    "emb.shape"
   ]
  },
  {
   "cell_type": "code",
   "execution_count": null,
   "id": "exotic-directive",
   "metadata": {},
   "outputs": [],
   "source": []
  }
 ],
 "metadata": {
  "kernelspec": {
   "display_name": "Python 3",
   "language": "python",
   "name": "python3"
  },
  "language_info": {
   "codemirror_mode": {
    "name": "ipython",
    "version": 3
   },
   "file_extension": ".py",
   "mimetype": "text/x-python",
   "name": "python",
   "nbconvert_exporter": "python",
   "pygments_lexer": "ipython3",
   "version": "3.8.5"
  }
 },
 "nbformat": 4,
 "nbformat_minor": 5
}
